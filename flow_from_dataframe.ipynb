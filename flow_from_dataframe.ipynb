{
 "cells": [
  {
   "cell_type": "code",
   "execution_count": 1,
   "metadata": {},
   "outputs": [
    {
     "name": "stderr",
     "output_type": "stream",
     "text": [
      "Using TensorFlow backend.\n"
     ]
    }
   ],
   "source": [
    "from keras.preprocessing.image import ImageDataGenerator\n",
    "import pandas as pd"
   ]
  },
  {
   "cell_type": "markdown",
   "metadata": {},
   "source": [
    "Format 1: When the classes are one-hot encoded"
   ]
  },
  {
   "cell_type": "code",
   "execution_count": null,
   "metadata": {},
   "outputs": [],
   "source": [
    "file_path=          #path of the images for training\n",
    "test_path=          #path of the images for testing\n",
    "df=pd.read_csv(\"csv file holding train data information\")\n",
    "test=pd.read_csv(\"csv file holding test data information\")\n",
    "\n",
    "classes=            #list of classes\n",
    "train_split=df.iloc[:]\n",
    "val_split=df.iloc[:]\n",
    "size=               #tuple indicating size of input image\n",
    "batch_size=         #mini-batch size\n",
    "\n",
    "columns=classes\n",
    "\n",
    "train_datagen=ImageDataGenerator(rescale=1./255)\n",
    "test_datagen=ImageDataGenerator(rescale=1./255)\n",
    "\n",
    "train_generator=train_datagen.flow_from_dataframe(\n",
    "dataframe=train_split,\n",
    "directory=file_path,\n",
    "x_col=,#name of the column holding image names \n",
    "y_col=classes,\n",
    "batch_size=batch_size,\n",
    "seed=42,\n",
    "shuffle=True,\n",
    "class_mode=\"other\",\n",
    "target_size=size)\n",
    "\n",
    "valid_generator=test_datagen.flow_from_dataframe(\n",
    "dataframe=val_split,\n",
    "directory=file_path,\n",
    "x_col=,#name of the column holding image names\n",
    "y_col=classes,\n",
    "batch_size=batch_size,\n",
    "seed=42,\n",
    "shuffle=True,\n",
    "class_mode=\"other\",\n",
    "target_size=size)\n",
    "\n",
    "test_generator=test_datagen.flow_from_dataframe(\n",
    "dataframe=test,\n",
    "directory=test_path,\n",
    "x_col=,#name of the column holding image names\n",
    "batch_size=batch_size,\n",
    "seed=42,\n",
    "shuffle=False,\n",
    "class_mode=None,\n",
    "target_size=size)"
   ]
  },
  {
   "cell_type": "markdown",
   "metadata": {},
   "source": [
    "Format 2:When the class names are specified"
   ]
  },
  {
   "cell_type": "code",
   "execution_count": null,
   "metadata": {},
   "outputs": [],
   "source": [
    "train_generator=train_datagen.flow_from_dataframe(\n",
    "dataframe=train_split,\n",
    "directory=file_path,\n",
    "x_col=,#name of the column holding image names\n",
    "y_col=,#name of the column holding class name\n",
    "batch_size=batch_size,\n",
    "seed=42,\n",
    "shuffle=True,\n",
    "class_mode=\"categorical\",\n",
    "classes=classes,\n",
    "target_size=size)\n",
    "\n",
    "valid_generator=test_datagen.flow_from_dataframe(\n",
    "dataframe=val_split,\n",
    "directory=file_path,\n",
    "x_col=,#name of the column holding image names\n",
    "y_col=,#name of the column holding class name\n",
    "batch_size=batch_size,\n",
    "seed=42,\n",
    "shuffle=True,\n",
    "class_mode=\"categorical\",\n",
    "classes=classes,\n",
    "target_size=size)\n",
    "\n",
    "test_generator=test_datagen.flow_from_dataframe(\n",
    "dataframe=test,\n",
    "directory=test_path,\n",
    "x_col=,#name of the column holding image names\n",
    "batch_size=batch_size,\n",
    "seed=42,\n",
    "shuffle=False,\n",
    "class_mode=None,\n",
    "target_size=size)"
   ]
  }
 ],
 "metadata": {
  "kernelspec": {
   "display_name": "Python 3",
   "language": "python",
   "name": "python3"
  },
  "language_info": {
   "codemirror_mode": {
    "name": "ipython",
    "version": 3
   },
   "file_extension": ".py",
   "mimetype": "text/x-python",
   "name": "python",
   "nbconvert_exporter": "python",
   "pygments_lexer": "ipython3",
   "version": "3.6.8"
  }
 },
 "nbformat": 4,
 "nbformat_minor": 2
}
